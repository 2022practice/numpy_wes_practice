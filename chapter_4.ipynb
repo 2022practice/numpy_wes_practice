{
 "cells": [
  {
   "cell_type": "code",
   "execution_count": 1,
   "id": "66e1f045-8cd9-4502-af87-2ffefceff8a1",
   "metadata": {},
   "outputs": [],
   "source": [
    "import numpy as np"
   ]
  },
  {
   "cell_type": "code",
   "execution_count": 2,
   "id": "112a5ba0-9fb3-4e3c-b5ae-a09c1e42e061",
   "metadata": {},
   "outputs": [],
   "source": [
    "my_arr = np.arange(1_000_000)"
   ]
  },
  {
   "cell_type": "code",
   "execution_count": 3,
   "id": "25281191-8e85-464e-83e4-4c2e1cbf00ad",
   "metadata": {},
   "outputs": [],
   "source": [
    "my_list = list(range(1_000_000))"
   ]
  },
  {
   "cell_type": "code",
   "execution_count": 4,
   "id": "9ee4441d-6e8c-4dea-a03c-2ce3620c5b5a",
   "metadata": {},
   "outputs": [
    {
     "name": "stdout",
     "output_type": "stream",
     "text": [
      "3.78 ms ± 97.1 µs per loop (mean ± std. dev. of 7 runs, 100 loops each)\n"
     ]
    }
   ],
   "source": [
    "%timeit my_arr2 = my_arr*2"
   ]
  },
  {
   "cell_type": "code",
   "execution_count": 5,
   "id": "168641b8-5843-4fc7-a593-c20b8c839d06",
   "metadata": {},
   "outputs": [
    {
     "name": "stdout",
     "output_type": "stream",
     "text": [
      "148 ms ± 2.12 ms per loop (mean ± std. dev. of 7 runs, 10 loops each)\n"
     ]
    }
   ],
   "source": [
    "%timeit my_list2 = [ x * 2 for x in my_list ]"
   ]
  },
  {
   "cell_type": "code",
   "execution_count": 10,
   "id": "cbff14e7-38d4-4eab-a96e-44276c9a25bb",
   "metadata": {},
   "outputs": [],
   "source": [
    "data = np.array([[1.5,-0.1,3],[0,-3,6.5]]) \n",
    "#le estoy pasando una lista de listas\n",
    "# si o si, los elementos de la lista 'externa' tienen que ser del mismo tipo, en este\n",
    "#caso, son listas"
   ]
  },
  {
   "cell_type": "code",
   "execution_count": 11,
   "id": "ec12f151-f2a3-4aad-bf63-29a0bf7f4e13",
   "metadata": {},
   "outputs": [
    {
     "data": {
      "text/plain": [
       "array([[ 1.5, -0.1,  3. ],\n",
       "       [ 0. , -3. ,  6.5]])"
      ]
     },
     "execution_count": 11,
     "metadata": {},
     "output_type": "execute_result"
    }
   ],
   "source": [
    "data"
   ]
  },
  {
   "cell_type": "code",
   "execution_count": 12,
   "id": "d45d9a4f-406f-4fa1-8741-7f69a9fcb898",
   "metadata": {},
   "outputs": [
    {
     "data": {
      "text/plain": [
       "((2, 3), dtype('float64'))"
      ]
     },
     "execution_count": 12,
     "metadata": {},
     "output_type": "execute_result"
    }
   ],
   "source": [
    "data.shape, data.dtype"
   ]
  },
  {
   "cell_type": "code",
   "execution_count": 13,
   "id": "cd263064-fe2b-42d6-b6eb-fc78b090d03b",
   "metadata": {},
   "outputs": [
    {
     "data": {
      "text/plain": [
       "(array([0., 0., 0.]),\n",
       " array([1., 1.]),\n",
       " array([1.5, 0.1, 3. , 3. , 6.5]),\n",
       " array([0, 1, 2, 3]))"
      ]
     },
     "execution_count": 13,
     "metadata": {},
     "output_type": "execute_result"
    }
   ],
   "source": [
    "#esta es buenisima, podes crear arrays del size que le pases\n",
    "# sin tener que hacer list comprehension\n",
    "np.zeros(3),np.ones(2),np.empty(5), np.arange(4)"
   ]
  },
  {
   "cell_type": "code",
   "execution_count": 21,
   "id": "5a33c148-8b9f-4c95-a0cb-ecfa1a10d0e0",
   "metadata": {},
   "outputs": [
    {
     "data": {
      "text/plain": [
       "(array([[1., 0., 0., 0.],\n",
       "        [0., 1., 0., 0.],\n",
       "        [0., 0., 1., 0.],\n",
       "        [0., 0., 0., 1.]]),\n",
       " array([[1., 0., 0., 0.],\n",
       "        [0., 1., 0., 0.],\n",
       "        [0., 0., 1., 0.],\n",
       "        [0., 0., 0., 1.]]))"
      ]
     },
     "execution_count": 21,
     "metadata": {},
     "output_type": "execute_result"
    }
   ],
   "source": [
    "np.identity(4), np.eye(4) # que diferencia hay????"
   ]
  },
  {
   "cell_type": "code",
   "execution_count": null,
   "id": "bd259626-7fd0-41cd-9522-b46e68a78239",
   "metadata": {},
   "outputs": [],
   "source": []
  }
 ],
 "metadata": {
  "jupytext": {
   "formats": "ipynb,auto:percent"
  },
  "kernelspec": {
   "display_name": "Python 3",
   "language": "python",
   "name": "python3"
  },
  "language_info": {
   "codemirror_mode": {
    "name": "ipython",
    "version": 3
   },
   "file_extension": ".py",
   "mimetype": "text/x-python",
   "name": "python",
   "nbconvert_exporter": "python",
   "pygments_lexer": "ipython3",
   "version": "3.10.0"
  }
 },
 "nbformat": 4,
 "nbformat_minor": 5
}
